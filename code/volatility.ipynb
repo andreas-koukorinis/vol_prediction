{
 "cells": [
  {
   "cell_type": "code",
   "execution_count": 3,
   "metadata": {},
   "outputs": [
    {
     "data": {
      "image/png": "[encoded data removed]",
      "text/plain": [
       "<matplotlib.figure.Figure at 0x107658dd8>"
      ]
     },
     "metadata": {},
     "output_type": "display_data"
    }
   ],
   "source": [
    "import config\n",
    "import os\n",
    "import pandas as pd\n",
    "import numpy as np\n",
    "import matplotlib.pyplot as plt\n",
    "%matplotlib inline\n",
    "import datetime as dt\n",
    "from dateutil.parser import parse\n",
    "import pdb\n",
    "\n",
    "def get_market_time():\n",
    "    \"\"\"Create a dataframe with maket open periods    \"\"\"\n",
    "    df = pd.DataFrame(index = [\"ag\", \"bu\", \"rb\", \"ru\", \"zn\"], \n",
    "                      columns = [\"day_period_1\", \"day_period_2\", \"day_period_3\", \"night_period_1\"])\n",
    "    df.index.name = \"Instrument\"\n",
    "    df.columns.name = \"open periods\"\n",
    "    #pdb.set_trace()\n",
    "    for row in df.index:\n",
    "        df.loc[row][\"day_period_1\"] = (dt.time(9, 0, 0), dt.time(10, 15, 0))\n",
    "        df.loc[row][\"day_period_2\"] = (dt.time(10, 30, 0), dt.time(11, 30, 0))\n",
    "        df.loc[row][\"day_period_3\"] = (dt.time(13, 30, 0), dt.time(15, 0, 0))\n",
    "    for row in \"ag\", :\n",
    "        df.loc[row][\"night_period_1\"] = (dt.time(21, 0, 0), dt.time(2, 30, 0))\n",
    "    for row in \"bu\", \"rb\", \"zn\":\n",
    "        df.loc[row][\"night_period_1\"] = (dt.time(21, 0, 0), dt.time(1, 0, 0))\n",
    "    for row in \"ru\", :\n",
    "        df.loc[row][\"night_period_1\"] = (dt.time(21, 0, 0), dt.time(11, 0, 0))\n",
    "    return df\n",
    "\n",
    "def clean_data(df):\n",
    "    \"\"\"Clean dataframe\n",
    "    \"\"\"\n",
    "    # calculate datetime from timestamp\n",
    "    #UTC8 = dt.timezone(dt.timedelta(hours = 8))\n",
    "    #df[\"DateTime\"] = df[\"TimeStamp\"].apply(lambda x: dt.datetime.fromtimestamp(int(x)/1000, tz = UTC8))\n",
    "    df[\"UpdateTime\"] = df[\"UpdateTime\"].apply(lambda x: parse(x).time())  \n",
    "    \n",
    "    # select data within makert time\n",
    "    instrument = df[\"InstrumentID\"][0][:2]\n",
    "    market_time = get_market_time()\n",
    "    mask = pd.Series(np.zeros(len(df))).astype(bool)\n",
    "    for col in market_time.columns:\n",
    "        mask = np.logical_or(mask, np.logical_and(df[\"UpdateTime\"] >= market_time.loc[instrument][col][0], \n",
    "                                                  df[\"UpdateTime\"] <= market_time.loc[instrument][col][1]))\n",
    "    df = df[mask]\n",
    "    return df\n",
    "\n",
    "\n",
    "# def daily_vol(df, k = 1):\n",
    "#     \"\"\"Calculate daily volatility for dataframe.\n",
    "#     \"\"\"\n",
    "#     vol = np.sqrt(vol_squared(df, k) /3.75 * 24 * 252)\n",
    "#     return vol\n",
    "        \n",
    "def daily_vol(df, k = 1):\n",
    "    \"\"\"Calculate volatility for dataframe\n",
    "    Inputs:\n",
    "            df: dataframe, raw data of commodity futures price in a day\n",
    "            k: int, lag used to calculate volatility\n",
    "    Outputs:\n",
    "            vol: float, volatility of the dataframe\n",
    "    \"\"\"\n",
    "\n",
    "    s = df[\"LastPrice\"].apply(np.log)\n",
    "    x = (s - s.shift(k)).dropna()\n",
    "    vol_squared = (np.sum(x * x) + np.sum((x * x.shift(-k)).dropna()) + np.sum((x * x.shift(k)).dropna())) / k\n",
    "    market_time = get_market_time()\n",
    "    hour = 3.75\n",
    "    vol = np.sqrt(vol_squared / hour * 24 * 252)\n",
    "    return vol\n",
    "        \n",
    "commodities = [name for name in os.listdir(config.DATA_BASE_PATH) if not name.startswith(\".\")] \n",
    "timesofdays = [\"day\", \"night\"]\n",
    "opt_lag_max = []\n",
    "opt_lag_min = []\n",
    "for commodity in commodities[0], :\n",
    "    for timesofday in timesofdays[0], :\n",
    "        timesofday_path = os.path.join(config.DATA_BASE_PATH, commodity, timesofday)\n",
    "        timesofday_files = os.listdir(timesofday_path)\n",
    "        for timesofday_file in timesofday_files[:1] :\n",
    "            timesofday_df = pd.read_csv(os.path.join(timesofday_path, timesofday_file))\n",
    "            timesofday_df = clean_data(timesofday_df)\n",
    "            #lags = range(1, 101, 1)\n",
    "            lags = range(1, 10)\n",
    "            vols = []\n",
    "            for k in lags:\n",
    "                vols.append(daily_vol(timesofday_df, k = k))\n",
    "            opt_lag_max.append(lags[np.argmax(vols)])\n",
    "            opt_lag_min.append(lags[np.argmin(vols)])\n",
    "            plt.plot(lags, vols)\n",
    "        plt.xlabel(\"lag\")\n",
    "        plt.ylabel(\"vol\")\n",
    "        plt.title(\"vol estimation with different lags\")\n",
    "        #plt.savefig(os.path.join(config.OUTPUT_PATH, \"vol_lag.png\"), dpi = 1000)\n",
    "        #plt.close()\n",
    "        "
   ]
  },
  {
   "cell_type": "code",
   "execution_count": 2,
   "metadata": {},
   "outputs": [
    {
     "data": {
      "text/plain": [
       "(1179, 37)"
      ]
     },
     "execution_count": 2,
     "metadata": {},
     "output_type": "execute_result"
    }
   ],
   "source": [
    "timesofday_df.shape"
   ]
  },
  {
   "cell_type": "code",
   "execution_count": null,
   "metadata": {
    "collapsed": true
   },
   "outputs": [],
   "source": []
  }
 ],
 "metadata": {
  "kernelspec": {
   "display_name": "Python 3",
   "language": "python",
   "name": "python3"
  },
  "language_info": {
   "codemirror_mode": {
    "name": "ipython",
    "version": 3
   },
   "file_extension": ".py",
   "mimetype": "text/x-python",
   "name": "python",
   "nbconvert_exporter": "python",
   "pygments_lexer": "ipython3",
   "version": "3.5.0"
  }
 },
 "nbformat": 4,
 "nbformat_minor": 2
}
