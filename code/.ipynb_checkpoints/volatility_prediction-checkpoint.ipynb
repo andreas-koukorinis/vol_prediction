{
 "cells": [
  {
   "cell_type": "code",
   "execution_count": 7,
   "metadata": {
    "collapsed": true
   },
   "outputs": [],
   "source": [
    "def get_spaced_colors(N):\n",
    "    N = 10\n",
    "    HSV_tuples = [(x*1.0/N, 0.5, 0.5) for x in range(N)]\n",
    "    RGB_tuples = list(map(lambda x: colorsys.hsv_to_rgb(*x), HSV_tuples))\n",
    "    return RGB_tuples"
   ]
  },
  {
   "cell_type": "code",
   "execution_count": 10,
   "metadata": {
    "scrolled": true
   },
   "outputs": [
    {
     "name": "stdout",
     "output_type": "stream",
     "text": [
      "The autoreload extension is already loaded. To reload it, use:\n",
      "  %reload_ext autoreload\n"
     ]
    }
   ],
   "source": [
    "%matplotlib inline\n",
    "%load_ext autoreload\n",
    "%autoreload 2\n",
    "import config\n",
    "import os\n",
    "import pandas as pd\n",
    "import numpy as np\n",
    "import matplotlib.pyplot as plt\n",
    "import datetime as dt\n",
    "from dateutil.parser import parse\n",
    "import pdb\n",
    "import seaborn as sns\n",
    "from tqdm import tqdm\n",
    "import re\n",
    "from collections import defaultdict\n",
    "from Instrument import calculate_vol\n",
    "\n",
    "from sklearn.metrics import mean_squared_error\n",
    "from statsmodels.tsa.arima_model import ARMA\n",
    "from statsmodels.tsa.ar_model import AR\n",
    "from arch import arch_model\n",
    "\n",
    "\n",
    "# calculate_vol()\n",
    "\n",
    "def benchmark(df):\n",
    "    \"\"\" Forecast next volatility with current volatility\n",
    "    \"\"\"\n",
    "    vols_pred = df['vol_6'].shift(1)\n",
    "    vols_pred = vols_pred.fillna(vols_pred.iloc[1])\n",
    "    return vols_pred\n",
    "\n",
    "def predict_AR(df, p=1):\n",
    "    \"\"\" Forecast next step volatility with expanding window using AR(p) model\n",
    "    \"\"\"\n",
    "\n",
    "    fit = lambda x: AR(x).fit(maxlag=p, disp=0).predict(start=x.size, end=x.size)\n",
    "    vols_pred = df['vol_6'].expanding(min_periods=30).apply(fit)\n",
    "    return vols_pred\n",
    "\n",
    "def get_mse(vols_true, vols_pred):\n",
    "    \"\"\"calculate mean squared error.\"\"\"\n",
    "    vols_pred_drop = vols_pred.dropna()\n",
    "    mse = mean_squared_error(vols_true[vols_pred_drop.index], vols_pred_drop)\n",
    "    return mse"
   ]
  },
  {
   "cell_type": "code",
   "execution_count": 89,
   "metadata": {
    "collapsed": true
   },
   "outputs": [],
   "source": [
    "id = 'ag1612'\n",
    "vol_full_df = pd.read_csv(os.path.join(config.OUTPUT_DATA_PATH, id + '.csv'), parse_dates=['datetime'], index_col=0)\n",
    "vol_full_df.set_index('datetime', inplace=True)\n",
    "vols_pred_benchmark = benchmark(vol_full_df)\n",
    "vols_pred_AR = predict_AR(vol_full_df, 1)"
   ]
  },
  {
   "cell_type": "code",
   "execution_count": 95,
   "metadata": {},
   "outputs": [
    {
     "name": "stdout",
     "output_type": "stream",
     "text": [
      "0.00616307123024\n",
      "0.00172238166048\n"
     ]
    },
    {
     "data": {
      "text/plain": [
       "[<matplotlib.lines.Line2D at 0x112ee4e10>]"
      ]
     },
     "execution_count": 95,
     "metadata": {},
     "output_type": "execute_result"
    },
    {
     "data": {
      "image/png": "[encoded data removed]",
      "text/plain": [
       "<matplotlib.figure.Figure at 0x112ee4eb8>"
      ]
     },
     "metadata": {},
     "output_type": "display_data"
    }
   ],
   "source": [
    "for vols_pred in vols_pred_benchmark, vols_pred_AR:\n",
    "    mse = get_mse(vol_full_df['vol_6'], vols_pred)\n",
    "    print(mse)\n",
    "plt.plot(vol_full_df.vol_6, label='original')\n",
    "plt.plot(vols_pred_AR, label='pred')"
   ]
  },
  {
   "cell_type": "code",
   "execution_count": 83,
   "metadata": {
    "scrolled": true
   },
   "outputs": [],
   "source": [
    "fit = lambda x: AR(x).fit(maxlag=1, disp=0).predict(start=x.size, end=x.size)\n",
    "x = pd.Series(range(100) + 0.1 * np.random.random(100), index=pd.date_range('2006/1/1', periods=100))\n",
    "x_pred = x.expanding(min_periods=10).apply(fit)\n",
    "plt.plot(x, label='x')\n",
    "plt.plot(x_pred, label='x_pred')\n",
    "plt.legend()"
   ]
  },
  {
   "cell_type": "code",
   "execution_count": 6,
   "metadata": {},
   "outputs": [
    {
     "name": "stdout",
     "output_type": "stream",
     "text": [
      "a\n",
      "1\n",
      "b\n",
      "2\n"
     ]
    }
   ],
   "source": [
    "d = {'a': 1, 'b': 2}\n",
    "for k, v in d.items():\n",
    "    print(k)\n",
    "    print(v)"
   ]
  },
  {
   "cell_type": "code",
   "execution_count": null,
   "metadata": {
    "collapsed": true
   },
   "outputs": [],
   "source": []
  }
 ],
 "metadata": {
  "kernelspec": {
   "display_name": "Python 3",
   "language": "python",
   "name": "python3"
  },
  "language_info": {
   "codemirror_mode": {
    "name": "ipython",
    "version": 3
   },
   "file_extension": ".py",
   "mimetype": "text/x-python",
   "name": "python",
   "nbconvert_exporter": "python",
   "pygments_lexer": "ipython3",
   "version": "3.5.0"
  }
 },
 "nbformat": 4,
 "nbformat_minor": 2
}
