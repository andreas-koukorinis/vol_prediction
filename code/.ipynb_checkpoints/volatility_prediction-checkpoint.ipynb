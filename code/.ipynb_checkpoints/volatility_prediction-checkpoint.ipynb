{
 "cells": [
  {
   "cell_type": "code",
   "execution_count": 14,
   "metadata": {
    "collapsed": true
   },
   "outputs": [],
   "source": [
    "class Instrument(object):\n",
    "    def __init__(self, df, timesofday, lags):\n",
    "        self._raw_data = df\n",
    "        self.timesofday = timesofday\n",
    "        self.id = df[\"InstrumentID\"][0]\n",
    "        self.market_time, self.hour = self.get_market_time()\n",
    "        self.clean_data = self.clean_data()\n",
    "        self.lags = lags\n",
    "        self.vols = [self.daily_vol(lag) for lag in self.lags]\n",
    "        self._reset_cache()\n",
    "        \n",
    "    def clean_data(self):\n",
    "        \"\"\"Clean dataframe\"\"\"\n",
    "        df = self._raw_data\n",
    "        df[\"UpdateTime\"] = df[\"UpdateTime\"].apply(lambda x: parse(x).time())  \n",
    "        # select data within makert time\n",
    "        mask = pd.Series(np.zeros(len(df))).astype(bool)\n",
    "        for period in self.market_time:\n",
    "            mask = np.logical_or(mask, np.logical_and(df[\"UpdateTime\"] >= period[0], df[\"UpdateTime\"] <= period[1]))\n",
    "        return df[mask]\n",
    "        \n",
    "    def get_market_time(self):\n",
    "        \"\"\"Create a dataframe with maket open periods\"\"\"\n",
    "        df = pd.DataFrame(index = [\"ag\", \"bu\", \"rb\", \"ru\", \"zn\"],\n",
    "                          columns = [\"day_period_1\", \"day_period_2\", \"day_period_3\", \"night_period_1\"])\n",
    "        df.index.name = \"Instrument\"\n",
    "        df.columns.name = \"open periods\"\n",
    "        for row in df.index:\n",
    "            df.loc[row][\"day_period_1\"] = (dt.time(9, 0, 0), dt.time(10, 15, 0))\n",
    "            df.loc[row][\"day_period_2\"] = (dt.time(10, 30, 0), dt.time(11, 30, 0))\n",
    "            df.loc[row][\"day_period_3\"] = (dt.time(13, 30, 0), dt.time(15, 0, 0))\n",
    "        for row in \"ag\", :\n",
    "            df.loc[row][\"night_period_1\"] = (dt.time(21, 0, 0), dt.time(2, 30, 0))\n",
    "        for row in \"bu\", \"rb\", \"zn\":\n",
    "            df.loc[row][\"night_period_1\"] = (dt.time(21, 0, 0), dt.time(1, 0, 0))\n",
    "        for row in \"ru\", :\n",
    "            df.loc[row][\"night_period_1\"] = (dt.time(21, 0, 0), dt.time(11, 0, 0))\n",
    "        market_time = df.loc[self.id[:2]]\n",
    "        if self.timesofday == \"day\":\n",
    "            market_time = market_time[:3]\n",
    "        else:\n",
    "            market_time = market_time[-1:]\n",
    "        hour = 0\n",
    "        for period in market_time:\n",
    "            dum = (period[1].hour - period[0].hour) + (period[1].minute - period[0].minute) / 60.0\n",
    "            hour += dum if dum > 0 else (dum + 24)\n",
    "        return market_time, hour\n",
    "    \n",
    "    def daily_vol(self, k = 1):\n",
    "        \"\"\"Calculate volatility for dataframe\n",
    "        Inputs:\n",
    "                df: dataframe, raw data of commodity futures price in a day\n",
    "                k: int, lag used to calculate volatility\n",
    "        Outputs:\n",
    "                vol: float, volatility of the dataframe\n",
    "        \"\"\"\n",
    "\n",
    "        s = self.clean_data[\"LastPrice\"].apply(np.log)\n",
    "        x = (s - s.shift(k)).dropna()\n",
    "        vol_squared = (np.sum(x * x) + np.sum((x * x.shift(-k)).dropna()) + np.sum((x * x.shift(k)).dropna())) / k\n",
    "        vol_squared = max(0, vol_squared)      # vol_squared could be negative \n",
    "        vol = np.sqrt(vol_squared / self.hour * 24 * 252)\n",
    "        return vol\n",
    "    \n",
    "    def to_dict(self):\n",
    "        data_dict = {\"timesofday\": self.timesofday, \"instrument_id\": self.id, \n",
    "                     \"min_vol_lag\": self.lags[np.argmin(self.vols)], \n",
    "                     \"max_vol_lag\": self.lags[np.argmax(self.vols)]}\n",
    "        for i, lag in enumerate(self.lags):\n",
    "            data_dict[\"vol_\" + repr(lag)] = self.vols[i]\n",
    "        return data_dict\n",
    "    def _reset_cache(self):\n",
    "        self._raw_data = None\n",
    "        self.clean_data = None"
   ]
  },
  {
   "cell_type": "code",
   "execution_count": null,
   "metadata": {
    "scrolled": false
   },
   "outputs": [
    {
     "name": "stderr",
     "output_type": "stream",
     "text": [
      "\n",
      "  0%|          | 0/2928 [00:00<?, ?it/s]\u001b[A\n",
      "  0%|          | 1/2928 [00:00<08:59,  5.42it/s]\u001b[A\n",
      "  0%|          | 2/2928 [00:00<09:17,  5.24it/s]\u001b[A\n",
      "  0%|          | 3/2928 [00:00<09:46,  4.99it/s]\u001b[A\n",
      "  0%|          | 4/2928 [00:00<09:29,  5.14it/s]\u001b[A\n",
      "  0%|          | 5/2928 [00:01<10:09,  4.79it/s]\u001b[A\n",
      "  0%|          | 6/2928 [00:01<09:51,  4.94it/s]\u001b[A\n",
      "  0%|          | 7/2928 [00:01<10:06,  4.82it/s]\u001b[A\n",
      "  0%|          | 9/2928 [00:01<08:00,  6.07it/s]\u001b[A\n",
      "  0%|          | 10/2928 [00:01<07:15,  6.70it/s]\u001b[A\n",
      "  9%|▊         | 249/2928 [01:02<1:09:33,  1.56s/it]"
     ]
    },
    {
     "name": "stdout",
     "output_type": "stream",
     "text": [
      "ag1606_20160114.csv\n"
     ]
    },
    {
     "name": "stderr",
     "output_type": "stream",
     "text": [
      " 12%|█▏        | 338/2928 [03:16<38:03,  1.13it/s]  "
     ]
    }
   ],
   "source": [
    "import config\n",
    "import os\n",
    "import pandas as pd\n",
    "import numpy as np\n",
    "import matplotlib.pyplot as plt\n",
    "%matplotlib inline\n",
    "import datetime as dt\n",
    "from dateutil.parser import parse\n",
    "import pdb\n",
    "import seaborn as sns\n",
    "from tqdm import tqdm\n",
    "\n",
    "commodities = [name for name in os.listdir(config.DATA_BASE_PATH) if not name.startswith(\".\")] \n",
    "timesofdays = [\"day\", \"night\"]\n",
    "lags = range(1, 101, 10)\n",
    "\n",
    "for commodity in commodities[0], :\n",
    "    for timesofday in timesofdays[0], :\n",
    "        timesofday_path = os.path.join(config.DATA_BASE_PATH, commodity, timesofday)\n",
    "        timesofday_files = os.listdir(timesofday_path)\n",
    "        data = []\n",
    "        for i, timesofday_file in enumerate(tqdm(timesofday_files)) :\n",
    "            timesofday_df = pd.read_csv(os.path.join(timesofday_path, timesofday_file))\n",
    "            if not timesofday_df.empty:\n",
    "                inst = Instrument(timesofday_df, timesofday, lags)\n",
    "                data.append(inst.to_dict())\n",
    "            else:\n",
    "                print(timesofday_file)\n",
    "        vol_df = pd.DataFrame(data)"
   ]
  },
  {
   "cell_type": "code",
   "execution_count": null,
   "metadata": {},
   "outputs": [],
   "source": [
    "vol_df[\"max_vol_lag\"].value_counts().plot(kind='bar')\n",
    "plt.savefig(os.path.join(config.OUTPUT_PATH, \"max_vol_lag.png\"), dpi = 1000)"
   ]
  },
  {
   "cell_type": "code",
   "execution_count": null,
   "metadata": {},
   "outputs": [],
   "source": [
    "vol_df[\"min_vol_lag\"].value_counts().plot(kind='bar')\n",
    "plt.savefig(os.path.join(config.OUTPUT_PATH, \"min_vol_lag.png\"), dpi = 1000)"
   ]
  },
  {
   "cell_type": "code",
   "execution_count": 17,
   "metadata": {
    "collapsed": true
   },
   "outputs": [],
   "source": []
  },
  {
   "cell_type": "code",
   "execution_count": null,
   "metadata": {
    "collapsed": true
   },
   "outputs": [],
   "source": []
  }
 ],
 "metadata": {
  "kernelspec": {
   "display_name": "Python 3",
   "language": "python",
   "name": "python3"
  },
  "language_info": {
   "codemirror_mode": {
    "name": "ipython",
    "version": 3
   },
   "file_extension": ".py",
   "mimetype": "text/x-python",
   "name": "python",
   "nbconvert_exporter": "python",
   "pygments_lexer": "ipython3",
   "version": "3.5.0"
  }
 },
 "nbformat": 4,
 "nbformat_minor": 2
}
