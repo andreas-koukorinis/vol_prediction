{
 "cells": [
  {
   "cell_type": "code",
   "execution_count": 1,
   "metadata": {
    "collapsed": true
   },
   "outputs": [],
   "source": [
    "def get_spaced_colors(N):\n",
    "    N = 10\n",
    "    HSV_tuples = [(x*1.0/N, 0.5, 0.5) for x in range(N)]\n",
    "    RGB_tuples = list(map(lambda x: colorsys.hsv_to_rgb(*x), HSV_tuples))\n",
    "    return RGB_tuples"
   ]
  },
  {
   "cell_type": "code",
   "execution_count": 6,
   "metadata": {
    "scrolled": true
   },
   "outputs": [
    {
     "name": "stderr",
     "output_type": "stream",
     "text": [
      "\r",
      "  0%|          | 0/26 [00:00<?, ?it/s]"
     ]
    },
    {
     "name": "stdout",
     "output_type": "stream",
     "text": [
      "The autoreload extension is already loaded. To reload it, use:\n",
      "  %reload_ext autoreload\n"
     ]
    },
    {
     "name": "stderr",
     "output_type": "stream",
     "text": [
      "100%|██████████| 26/26 [00:05<00:00,  7.70it/s]\n",
      "100%|██████████| 25/25 [00:06<00:00,  3.80it/s]\n"
     ]
    }
   ],
   "source": [
    "%matplotlib inline\n",
    "%load_ext autoreload\n",
    "%autoreload 2\n",
    "import config\n",
    "import os\n",
    "import pandas as pd\n",
    "import numpy as np\n",
    "import matplotlib.pyplot as plt\n",
    "import datetime as dt\n",
    "from dateutil.parser import parse\n",
    "import pdb\n",
    "import seaborn as sns\n",
    "from tqdm import tqdm\n",
    "import re\n",
    "from collections import defaultdict\n",
    "\n",
    "from Instrument import Instrument\n",
    "\n",
    "\n",
    "commodities = [name for name in os.listdir(config.DATA_BASE_PATH) if not name.startswith(\".\")] \n",
    "timesofdays = [\"day\", \"night\"]\n",
    "sample_period = 5     # min\n",
    "\n",
    "for commodity in commodities[:1]:\n",
    "    dfs_dict = defaultdict(list)\n",
    "    for timesofday in timesofdays:\n",
    "        vol_dfs = []\n",
    "        timesofday_path = os.path.join(config.DATA_BASE_PATH, commodity, timesofday)\n",
    "        timesofday_files = os.listdir(timesofday_path)\n",
    "        timesofday_files = [x for x in timesofday_files if x.startswith(commodity + \"1602\")]\n",
    "#         timesofday_files = [x for x in timesofday_files if (x.startswith(commodity + \"1610\") or\n",
    "#                                                            x.startswith(commodity + \"1611\"))]\n",
    "        for i, timesofday_file in enumerate(tqdm(timesofday_files[:])) :\n",
    "            timesofday_df = pd.read_csv(os.path.join(timesofday_path, timesofday_file), parse_dates=[[1, 36]], keep_date_col=True)\n",
    "            if not timesofday_df.empty:\n",
    "                inst = Instrument(timesofday_df, sample_period, timesofday)\n",
    "                vol_dfs.append(inst.get_vol())\n",
    "            else:\n",
    "                print(timesofday_file)\n",
    "        dfs_dict[inst.id].append(pd.concat(vol_dfs))\n",
    "    vol_full_df = pd.concat(dfs_dict[inst.id])\n",
    "    vol_full_df.sort_values(by=\"datetime\", inplace=True, kind=\"mergesort\")\n",
    "    vol_full_df.to_csv(os.path.join(config.OUTPUT_DATA_PATH, inst.id + '.csv'))"
   ]
  },
  {
   "cell_type": "code",
   "execution_count": null,
   "metadata": {
    "collapsed": true
   },
   "outputs": [],
   "source": []
  },
  {
   "cell_type": "code",
   "execution_count": 164,
   "metadata": {},
   "outputs": [
    {
     "data": {
      "text/plain": [
       "[<matplotlib.lines.Line2D at 0x110c23eb8>]"
      ]
     },
     "execution_count": 164,
     "metadata": {},
     "output_type": "execute_result"
    },
    {
     "data": {
      "image/png": "[encoded data removed]",
      "text/plain": [
       "<matplotlib.figure.Figure at 0x10fe883c8>"
      ]
     },
     "metadata": {},
     "output_type": "display_data"
    }
   ],
   "source": [
    "vol_full_df = pd.read_csv(os.path.join(config.OUTPUT_DATA_PATH, 'ag1612.csv'))\n",
    "vol_full_df.datetime = pd.to_datetime(vol_full_df.datetime)\n",
    "vol_full_df = vol_full_df[vol_full_df.datetime <= dt.datetime(2016, 1, 7)]\n",
    "plt.plot(vol_full_df.vol_6)"
   ]
  },
  {
   "cell_type": "code",
   "execution_count": 178,
   "metadata": {
    "scrolled": true
   },
   "outputs": [
    {
     "data": {
      "text/plain": [
       "(42234, 5)"
      ]
     },
     "execution_count": 178,
     "metadata": {},
     "output_type": "execute_result"
    }
   ],
   "source": [
    "vol_full_df.shape"
   ]
  },
  {
   "cell_type": "code",
   "execution_count": 180,
   "metadata": {},
   "outputs": [
    {
     "data": {
      "text/plain": [
       "(42234, 5)"
      ]
     },
     "execution_count": 180,
     "metadata": {},
     "output_type": "execute_result"
    }
   ],
   "source": [
    "pd.concat([vol_full_df, None]).shape"
   ]
  },
  {
   "cell_type": "code",
   "execution_count": 111,
   "metadata": {},
   "outputs": [
    {
     "data": {
      "text/html": [
       "<div>\n",
       "<table border=\"1\" class=\"dataframe\">\n",
       "  <thead>\n",
       "    <tr style=\"text-align: right;\">\n",
       "      <th></th>\n",
       "      <th>Date_UpdateTime</th>\n",
       "      <th>Date</th>\n",
       "      <th>UpdateTime</th>\n",
       "      <th>ts_date</th>\n",
       "    </tr>\n",
       "  </thead>\n",
       "  <tbody>\n",
       "    <tr>\n",
       "      <th>1521</th>\n",
       "      <td>2016-12-16 02:29:46.000</td>\n",
       "      <td>20161216</td>\n",
       "      <td>02:29:46</td>\n",
       "      <td>2016-12-15 13:29:46.000</td>\n",
       "    </tr>\n",
       "    <tr>\n",
       "      <th>1522</th>\n",
       "      <td>2016-12-16 02:29:54.000</td>\n",
       "      <td>20161216</td>\n",
       "      <td>02:29:54</td>\n",
       "      <td>2016-12-15 13:29:54.000</td>\n",
       "    </tr>\n",
       "    <tr>\n",
       "      <th>1523</th>\n",
       "      <td>2016-12-16 02:29:55.500</td>\n",
       "      <td>20161216</td>\n",
       "      <td>02:29:55.500000</td>\n",
       "      <td>2016-12-15 13:29:55.500</td>\n",
       "    </tr>\n",
       "    <tr>\n",
       "      <th>1524</th>\n",
       "      <td>2016-12-16 02:29:56.000</td>\n",
       "      <td>20161216</td>\n",
       "      <td>02:29:56</td>\n",
       "      <td>2016-12-15 13:29:56.000</td>\n",
       "    </tr>\n",
       "    <tr>\n",
       "      <th>1525</th>\n",
       "      <td>2016-12-16 02:30:00.500</td>\n",
       "      <td>20161216</td>\n",
       "      <td>02:30:00.500000</td>\n",
       "      <td>2016-12-15 13:30:00.500</td>\n",
       "    </tr>\n",
       "  </tbody>\n",
       "</table>\n",
       "</div>"
      ],
      "text/plain": [
       "             Date_UpdateTime      Date       UpdateTime  \\\n",
       "1521 2016-12-16 02:29:46.000  20161216         02:29:46   \n",
       "1522 2016-12-16 02:29:54.000  20161216         02:29:54   \n",
       "1523 2016-12-16 02:29:55.500  20161216  02:29:55.500000   \n",
       "1524 2016-12-16 02:29:56.000  20161216         02:29:56   \n",
       "1525 2016-12-16 02:30:00.500  20161216  02:30:00.500000   \n",
       "\n",
       "                     ts_date  \n",
       "1521 2016-12-15 13:29:46.000  \n",
       "1522 2016-12-15 13:29:54.000  \n",
       "1523 2016-12-15 13:29:55.500  \n",
       "1524 2016-12-15 13:29:56.000  \n",
       "1525 2016-12-15 13:30:00.500  "
      ]
     },
     "execution_count": 111,
     "metadata": {},
     "output_type": "execute_result"
    }
   ],
   "source": [
    "timesofday_df[\"ts_date\"] = timesofday_df.TimeStamp.apply(lambda x: dt.datetime.fromtimestamp(x/1000))\n",
    "timesofday_df[[\"Date_UpdateTime\", \"Date\", \"UpdateTime\", \"ts_date\"]].tail()"
   ]
  },
  {
   "cell_type": "code",
   "execution_count": null,
   "metadata": {
    "collapsed": true
   },
   "outputs": [],
   "source": [
    "tz = +13"
   ]
  },
  {
   "cell_type": "code",
   "execution_count": null,
   "metadata": {
    "collapsed": true
   },
   "outputs": [],
   "source": []
  },
  {
   "cell_type": "code",
   "execution_count": 182,
   "metadata": {
    "scrolled": false
   },
   "outputs": [
    {
     "data": {
      "image/png": "[encoded data removed]",
      "text/plain": [
       "<matplotlib.figure.Figure at 0x10e252f98>"
      ]
     },
     "metadata": {},
     "output_type": "display_data"
    }
   ],
   "source": [
    "np.random.seed(11)\n",
    "markers = [\"o\", \"v\", \"^\", \"<\", \">\", \"s\", \"8\", \"p\", \"P\", \"*\", \"h\", \"H\"]\n",
    "i_mk = 0\n",
    "for i, row in vol_dfs[0].iloc[np.random.choice(range(len(vol_dfs[0])), 5)].iterrows():\n",
    "    plt.plot(row, label = \"period \" + repr(i), marker = markers[i_mk])\n",
    "    i_mk += 1\n",
    "    i_mk = i_mk%len(markers)\n",
    "plt.legend()\n",
    "plt.xlim([min(lags), max(lags)])\n",
    "plt.xlabel(\"lag\")\n",
    "plt.ylabel(\"vol\")\n",
    "plt.title(\"vol estimation with different lag\")\n",
    "plt.savefig(config.OUTPUT_PATH+\"/\"+repr(sample_period)+\"min_vol_lag.png\", dpi=1000)"
   ]
  },
  {
   "cell_type": "code",
   "execution_count": 166,
   "metadata": {},
   "outputs": [
    {
     "data": {
      "text/plain": [
       "array([2, 1, 4])"
      ]
     },
     "execution_count": 166,
     "metadata": {},
     "output_type": "execute_result"
    }
   ],
   "source": [
    "np.random.choice([1,2,3,4,5], 3)"
   ]
  },
  {
   "cell_type": "code",
   "execution_count": 68,
   "metadata": {},
   "outputs": [
    {
     "data": {
      "text/html": [
       "<div>\n",
       "<table border=\"1\" class=\"dataframe\">\n",
       "  <thead>\n",
       "    <tr style=\"text-align: right;\">\n",
       "      <th></th>\n",
       "      <th>Date_UpdateTime</th>\n",
       "      <th>InstrumentID</th>\n",
       "      <th>Date</th>\n",
       "      <th>TimeStamp</th>\n",
       "      <th>LastPrice</th>\n",
       "      <th>HighPrice</th>\n",
       "      <th>LowPrice</th>\n",
       "      <th>Volume</th>\n",
       "      <th>Turnover</th>\n",
       "      <th>AccVolume</th>\n",
       "      <th>...</th>\n",
       "      <th>BidVolume3</th>\n",
       "      <th>BidVolume4</th>\n",
       "      <th>BidVolume5</th>\n",
       "      <th>Type</th>\n",
       "      <th>AveragePrice</th>\n",
       "      <th>UpperLimitPrice</th>\n",
       "      <th>LowerLimitPrice</th>\n",
       "      <th>UpdateTime</th>\n",
       "      <th>period</th>\n",
       "      <th>new</th>\n",
       "    </tr>\n",
       "  </thead>\n",
       "  <tbody>\n",
       "    <tr>\n",
       "      <th>0</th>\n",
       "      <td>2016-05-04 09:00:00.500</td>\n",
       "      <td>ag1606</td>\n",
       "      <td>20160504</td>\n",
       "      <td>1.462324e+12</td>\n",
       "      <td>3779.0</td>\n",
       "      <td>3827.0</td>\n",
       "      <td>3768.0</td>\n",
       "      <td>112.0</td>\n",
       "      <td>6353250.0</td>\n",
       "      <td>305014.0</td>\n",
       "      <td>...</td>\n",
       "      <td>0.0</td>\n",
       "      <td>0.0</td>\n",
       "      <td>0.0</td>\n",
       "      <td>-1</td>\n",
       "      <td>3791.0</td>\n",
       "      <td>4043.0</td>\n",
       "      <td>3586.0</td>\n",
       "      <td>09:00:00.500000</td>\n",
       "      <td>9</td>\n",
       "      <td>abc</td>\n",
       "    </tr>\n",
       "    <tr>\n",
       "      <th>1</th>\n",
       "      <td>2016-05-04 09:00:01.000</td>\n",
       "      <td>ag1606</td>\n",
       "      <td>20160504</td>\n",
       "      <td>1.462324e+12</td>\n",
       "      <td>3784.0</td>\n",
       "      <td>3827.0</td>\n",
       "      <td>3768.0</td>\n",
       "      <td>40.0</td>\n",
       "      <td>2269950.0</td>\n",
       "      <td>305054.0</td>\n",
       "      <td>...</td>\n",
       "      <td>0.0</td>\n",
       "      <td>0.0</td>\n",
       "      <td>0.0</td>\n",
       "      <td>-1</td>\n",
       "      <td>3791.0</td>\n",
       "      <td>4043.0</td>\n",
       "      <td>3586.0</td>\n",
       "      <td>09:00:01</td>\n",
       "      <td>9</td>\n",
       "      <td>abc</td>\n",
       "    </tr>\n",
       "    <tr>\n",
       "      <th>2</th>\n",
       "      <td>2016-05-04 09:00:01.500</td>\n",
       "      <td>ag1606</td>\n",
       "      <td>20160504</td>\n",
       "      <td>1.462324e+12</td>\n",
       "      <td>3783.0</td>\n",
       "      <td>3827.0</td>\n",
       "      <td>3768.0</td>\n",
       "      <td>20.0</td>\n",
       "      <td>1134750.0</td>\n",
       "      <td>305074.0</td>\n",
       "      <td>...</td>\n",
       "      <td>0.0</td>\n",
       "      <td>0.0</td>\n",
       "      <td>0.0</td>\n",
       "      <td>-1</td>\n",
       "      <td>3791.0</td>\n",
       "      <td>4043.0</td>\n",
       "      <td>3586.0</td>\n",
       "      <td>09:00:01.500000</td>\n",
       "      <td>9</td>\n",
       "      <td>abc</td>\n",
       "    </tr>\n",
       "    <tr>\n",
       "      <th>3</th>\n",
       "      <td>2016-05-04 09:00:02.000</td>\n",
       "      <td>ag1606</td>\n",
       "      <td>20160504</td>\n",
       "      <td>1.462324e+12</td>\n",
       "      <td>3783.0</td>\n",
       "      <td>3827.0</td>\n",
       "      <td>3768.0</td>\n",
       "      <td>14.0</td>\n",
       "      <td>794430.0</td>\n",
       "      <td>305088.0</td>\n",
       "      <td>...</td>\n",
       "      <td>0.0</td>\n",
       "      <td>0.0</td>\n",
       "      <td>0.0</td>\n",
       "      <td>-1</td>\n",
       "      <td>3791.0</td>\n",
       "      <td>4043.0</td>\n",
       "      <td>3586.0</td>\n",
       "      <td>09:00:02</td>\n",
       "      <td>9</td>\n",
       "      <td>abc</td>\n",
       "    </tr>\n",
       "    <tr>\n",
       "      <th>4</th>\n",
       "      <td>2016-05-04 09:00:02.500</td>\n",
       "      <td>ag1606</td>\n",
       "      <td>20160504</td>\n",
       "      <td>1.462324e+12</td>\n",
       "      <td>3784.0</td>\n",
       "      <td>3827.0</td>\n",
       "      <td>3768.0</td>\n",
       "      <td>84.0</td>\n",
       "      <td>4767060.0</td>\n",
       "      <td>305172.0</td>\n",
       "      <td>...</td>\n",
       "      <td>0.0</td>\n",
       "      <td>0.0</td>\n",
       "      <td>0.0</td>\n",
       "      <td>-1</td>\n",
       "      <td>3791.0</td>\n",
       "      <td>4043.0</td>\n",
       "      <td>3586.0</td>\n",
       "      <td>09:00:02.500000</td>\n",
       "      <td>9</td>\n",
       "      <td>abc</td>\n",
       "    </tr>\n",
       "  </tbody>\n",
       "</table>\n",
       "<p>5 rows × 40 columns</p>\n",
       "</div>"
      ],
      "text/plain": [
       "          Date_UpdateTime InstrumentID      Date     TimeStamp  LastPrice  \\\n",
       "0 2016-05-04 09:00:00.500       ag1606  20160504  1.462324e+12     3779.0   \n",
       "1 2016-05-04 09:00:01.000       ag1606  20160504  1.462324e+12     3784.0   \n",
       "2 2016-05-04 09:00:01.500       ag1606  20160504  1.462324e+12     3783.0   \n",
       "3 2016-05-04 09:00:02.000       ag1606  20160504  1.462324e+12     3783.0   \n",
       "4 2016-05-04 09:00:02.500       ag1606  20160504  1.462324e+12     3784.0   \n",
       "\n",
       "   HighPrice  LowPrice  Volume   Turnover  AccVolume ...   BidVolume3  \\\n",
       "0     3827.0    3768.0   112.0  6353250.0   305014.0 ...          0.0   \n",
       "1     3827.0    3768.0    40.0  2269950.0   305054.0 ...          0.0   \n",
       "2     3827.0    3768.0    20.0  1134750.0   305074.0 ...          0.0   \n",
       "3     3827.0    3768.0    14.0   794430.0   305088.0 ...          0.0   \n",
       "4     3827.0    3768.0    84.0  4767060.0   305172.0 ...          0.0   \n",
       "\n",
       "   BidVolume4  BidVolume5  Type  AveragePrice  UpperLimitPrice  \\\n",
       "0         0.0         0.0    -1        3791.0           4043.0   \n",
       "1         0.0         0.0    -1        3791.0           4043.0   \n",
       "2         0.0         0.0    -1        3791.0           4043.0   \n",
       "3         0.0         0.0    -1        3791.0           4043.0   \n",
       "4         0.0         0.0    -1        3791.0           4043.0   \n",
       "\n",
       "   LowerLimitPrice       UpdateTime  period  new  \n",
       "0           3586.0  09:00:00.500000       9  abc  \n",
       "1           3586.0         09:00:01       9  abc  \n",
       "2           3586.0  09:00:01.500000       9  abc  \n",
       "3           3586.0         09:00:02       9  abc  \n",
       "4           3586.0  09:00:02.500000       9  abc  \n",
       "\n",
       "[5 rows x 40 columns]"
      ]
     },
     "execution_count": 68,
     "metadata": {},
     "output_type": "execute_result"
    }
   ],
   "source": [
    "timesofday_df[\"new\"] = \"abc\"\n",
    "timesofday_df.head()"
   ]
  },
  {
   "cell_type": "code",
   "execution_count": null,
   "metadata": {
    "collapsed": true
   },
   "outputs": [],
   "source": []
  }
 ],
 "metadata": {
  "kernelspec": {
   "display_name": "Python 3",
   "language": "python",
   "name": "python3"
  },
  "language_info": {
   "codemirror_mode": {
    "name": "ipython",
    "version": 3
   },
   "file_extension": ".py",
   "mimetype": "text/x-python",
   "name": "python",
   "nbconvert_exporter": "python",
   "pygments_lexer": "ipython3",
   "version": "3.5.0"
  }
 },
 "nbformat": 4,
 "nbformat_minor": 2
}
