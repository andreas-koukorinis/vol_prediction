{
 "cells": [
  {
   "cell_type": "code",
   "execution_count": 48,
   "metadata": {},
   "outputs": [],
   "source": [
    "class Instrument(object):\n",
    "    def __init__(self, df, timesofday):\n",
    "        self._raw_data = df\n",
    "        self.timesofday = timesofday\n",
    "        self.id = df[\"InstrumentID\"][0]\n",
    "        self.market_time, self.hour = self.get_market_time()\n",
    "        self.clean_data = self.clean_data()\n",
    "#         self.lags = lags\n",
    "#         self.vols = [self.daily_vol(lag) for lag in self.lags]\n",
    "#         self._reset_cache()\n",
    "        \n",
    "    def clean_data(self):\n",
    "        \"\"\"Clean dataframe\"\"\"\n",
    "        df = self._raw_data\n",
    "        df[\"UpdateTime\"] = df[\"UpdateTime\"].apply(lambda x: parse(x).time())  \n",
    "        # select data within makert time\n",
    "        mask = pd.Series(np.zeros(len(df))).astype(bool)\n",
    "        for period in self.market_time:\n",
    "            mask = np.logical_or(mask, np.logical_and(df[\"UpdateTime\"] >= period[0], df[\"UpdateTime\"] <= period[1]))\n",
    "        df[\"LogPrice\"] = df[\"LastPrice\"].apply(np.log)\n",
    "        df = df[mask]\n",
    "        return df\n",
    "        \n",
    "    def get_market_time(self):\n",
    "        \"\"\"Create a dataframe with maket open periods\"\"\"\n",
    "        df = pd.DataFrame(index = [\"ag\", \"bu\", \"rb\", \"ru\", \"zn\"],\n",
    "                          columns = [\"day_period_1\", \"day_period_2\", \"day_period_3\", \"night_period_1\"])\n",
    "        df.index.name = \"Instrument\"\n",
    "        df.columns.name = \"open periods\"\n",
    "        for row in df.index:\n",
    "            df.loc[row][\"day_period_1\"] = (dt.time(9, 0, 0), dt.time(10, 15, 0))\n",
    "            df.loc[row][\"day_period_2\"] = (dt.time(10, 30, 0), dt.time(11, 30, 0))\n",
    "            df.loc[row][\"day_period_3\"] = (dt.time(13, 30, 0), dt.time(15, 0, 0))\n",
    "        for row in \"ag\", :\n",
    "            df.loc[row][\"night_period_1\"] = (dt.time(21, 0, 0), dt.time(2, 30, 0))\n",
    "        for row in \"bu\", \"rb\", \"zn\":\n",
    "            df.loc[row][\"night_period_1\"] = (dt.time(21, 0, 0), dt.time(1, 0, 0))\n",
    "        for row in \"ru\", :\n",
    "            df.loc[row][\"night_period_1\"] = (dt.time(21, 0, 0), dt.time(11, 0, 0))\n",
    "        market_time = df.loc[self.id[:2]]\n",
    "        if self.timesofday == \"day\":\n",
    "            market_time = market_time[:3]\n",
    "        else:\n",
    "            market_time = market_time[-1:]\n",
    "        hour = 0\n",
    "        for period in market_time:\n",
    "            dum = (period[1].hour - period[0].hour) + (period[1].minute - period[0].minute) / 60.0\n",
    "            hour += dum if dum > 0 else (dum + 24)\n",
    "        return market_time, hour\n",
    "    \n",
    "    def vol_Zhou(self, k=1):\n",
    "        \"\"\"Calculate volatility for dataframe\n",
    "        Inputs:\n",
    "                df: dataframe, raw data of commodity futures price in a day\n",
    "                k: int, lag used to calculate volatility\n",
    "        Outputs:\n",
    "                vol: float, volatility of the dataframe\n",
    "        \"\"\"\n",
    "        s = self.clean_data[\"LogPrice\"]\n",
    "        x = (s - s.shift(k)).dropna()\n",
    "        vol_squared = (np.sum(x * x) + np.sum((x * x.shift(-k)).dropna()) + np.sum((x * x.shift(k)).dropna())) / k\n",
    "        vol_squared = max(0, vol_squared)      # vol_squared could be negative \n",
    "        vol = np.sqrt(vol_squared / self.hour * 24 * 252)\n",
    "        return vol\n",
    "    \n",
    "    def vol_tsrv(self, j=1, k=3):\n",
    "        \"\"\"Calculate volatility using TSVR AA formulat by LanZhang.\"\"\"\n",
    "        if j >= k:\n",
    "            raise ValueError(\"j is not less than k.\")\n",
    "        s = self.clean_data[\"LogPrice\"]\n",
    "        n = len(s)\n",
    "        n_k = (n - k + 1.) / k\n",
    "        n_j = (n - j + 1.) / j\n",
    "        vol_squared = (s.shift(-k) - s).dropna().apply(np.square).sum() - \\\n",
    "                    n_k / n_j * (s.shift(-j) - s).dropna().apply(np.square).sum()\n",
    "        #vol_squared *= n / ((k - j) * n_k)\n",
    "        vol = np.sqrt(vol_squared / self.hour * 24 * 252)\n",
    "        return vol\n",
    "    \n",
    "#     def to_dict(self):\n",
    "#         data_dict = {\"timesofday\": self.timesofday, \"instrument_id\": self.id, \n",
    "#                      \"min_vol_lag\": self.lags[np.argmin(self.vols)], \n",
    "#                      \"max_vol_lag\": self.lags[np.argmax(self.vols)]}\n",
    "#         for i, lag in enumerate(self.lags):\n",
    "#             data_dict[\"vol_\" + repr(lag)] = self.vols[i]\n",
    "#         return data_dict\n",
    "    \n",
    "    def _reset_cache(self):\n",
    "        self._raw_data = None\n",
    "        self.clean_data = None"
   ]
  },
  {
   "cell_type": "code",
   "execution_count": 49,
   "metadata": {
    "scrolled": false
   },
   "outputs": [
    {
     "name": "stderr",
     "output_type": "stream",
     "text": [
      "100%|██████████| 10/10 [00:01<00:00,  9.52it/s]\n"
     ]
    }
   ],
   "source": [
    "import config\n",
    "import os\n",
    "import pandas as pd\n",
    "import numpy as np\n",
    "import matplotlib.pyplot as plt\n",
    "%matplotlib inline\n",
    "import datetime as dt\n",
    "from dateutil.parser import parse\n",
    "import pdb\n",
    "import seaborn as sns\n",
    "from tqdm import tqdm\n",
    "\n",
    "commodities = [name for name in os.listdir(config.DATA_BASE_PATH) if not name.startswith(\".\")] \n",
    "timesofdays = [\"day\", \"night\"]\n",
    "lags = range(2, 10)\n",
    "\n",
    "for commodity in commodities[0], :\n",
    "    for timesofday in timesofdays[0], :\n",
    "        timesofday_path = os.path.join(config.DATA_BASE_PATH, commodity, timesofday)\n",
    "        timesofday_files = os.listdir(timesofday_path)\n",
    "        data = []\n",
    "        for i, timesofday_file in enumerate(tqdm(timesofday_files[:10])) :\n",
    "            timesofday_df = pd.read_csv(os.path.join(timesofday_path, timesofday_file))\n",
    "            if not timesofday_df.empty:\n",
    "                inst = Instrument(timesofday_df, timesofday)\n",
    "                vols = [inst.vol_tsrv(k = lag) for lag in lags]\n",
    "                vols_dict = {\"timesofday\": inst.timesofday, \"instrument_id\": inst.id,\n",
    "                             \"min_vol_lag\": lags[np.argmin(vols)], \n",
    "                             \"max_vol_lag\": lags[np.argmax(vols)]}\n",
    "                for i, lag in enumerate(lags):\n",
    "                    vols_dict[\"vol_\" + repr(lag)] = vols[i]\n",
    "                inst._reset_cache()\n",
    "                data.append(vols_dict)\n",
    "            else:\n",
    "                print(timesofday_file)\n",
    "        vol_df = pd.DataFrame(data)"
   ]
  },
  {
   "cell_type": "code",
   "execution_count": 50,
   "metadata": {},
   "outputs": [
    {
     "data": {
      "text/html": [
       "<div>\n",
       "<table border=\"1\" class=\"dataframe\">\n",
       "  <thead>\n",
       "    <tr style=\"text-align: right;\">\n",
       "      <th></th>\n",
       "      <th>instrument_id</th>\n",
       "      <th>max_vol_lag</th>\n",
       "      <th>min_vol_lag</th>\n",
       "      <th>timesofday</th>\n",
       "      <th>vol_2</th>\n",
       "      <th>vol_3</th>\n",
       "      <th>vol_4</th>\n",
       "      <th>vol_5</th>\n",
       "      <th>vol_6</th>\n",
       "      <th>vol_7</th>\n",
       "      <th>vol_8</th>\n",
       "      <th>vol_9</th>\n",
       "    </tr>\n",
       "  </thead>\n",
       "  <tbody>\n",
       "    <tr>\n",
       "      <th>0</th>\n",
       "      <td>ag1601</td>\n",
       "      <td>9</td>\n",
       "      <td>2</td>\n",
       "      <td>day</td>\n",
       "      <td>0.548696</td>\n",
       "      <td>0.730875</td>\n",
       "      <td>0.861240</td>\n",
       "      <td>0.972972</td>\n",
       "      <td>1.054957</td>\n",
       "      <td>1.129889</td>\n",
       "      <td>1.199784</td>\n",
       "      <td>1.265015</td>\n",
       "    </tr>\n",
       "    <tr>\n",
       "      <th>1</th>\n",
       "      <td>ag1601</td>\n",
       "      <td>9</td>\n",
       "      <td>2</td>\n",
       "      <td>day</td>\n",
       "      <td>0.310765</td>\n",
       "      <td>0.414698</td>\n",
       "      <td>0.491939</td>\n",
       "      <td>0.556672</td>\n",
       "      <td>0.613497</td>\n",
       "      <td>0.627018</td>\n",
       "      <td>0.647231</td>\n",
       "      <td>0.668500</td>\n",
       "    </tr>\n",
       "    <tr>\n",
       "      <th>2</th>\n",
       "      <td>ag1601</td>\n",
       "      <td>9</td>\n",
       "      <td>2</td>\n",
       "      <td>day</td>\n",
       "      <td>0.341238</td>\n",
       "      <td>0.436313</td>\n",
       "      <td>0.493827</td>\n",
       "      <td>0.544566</td>\n",
       "      <td>0.586516</td>\n",
       "      <td>0.601445</td>\n",
       "      <td>0.614604</td>\n",
       "      <td>0.617724</td>\n",
       "    </tr>\n",
       "    <tr>\n",
       "      <th>3</th>\n",
       "      <td>ag1601</td>\n",
       "      <td>9</td>\n",
       "      <td>2</td>\n",
       "      <td>day</td>\n",
       "      <td>0.627426</td>\n",
       "      <td>0.829852</td>\n",
       "      <td>0.981267</td>\n",
       "      <td>1.085029</td>\n",
       "      <td>1.172240</td>\n",
       "      <td>1.247323</td>\n",
       "      <td>1.317642</td>\n",
       "      <td>1.383340</td>\n",
       "    </tr>\n",
       "    <tr>\n",
       "      <th>4</th>\n",
       "      <td>ag1601</td>\n",
       "      <td>9</td>\n",
       "      <td>2</td>\n",
       "      <td>day</td>\n",
       "      <td>0.458269</td>\n",
       "      <td>0.612867</td>\n",
       "      <td>0.726474</td>\n",
       "      <td>0.822112</td>\n",
       "      <td>0.906942</td>\n",
       "      <td>0.985028</td>\n",
       "      <td>1.054001</td>\n",
       "      <td>1.118484</td>\n",
       "    </tr>\n",
       "  </tbody>\n",
       "</table>\n",
       "</div>"
      ],
      "text/plain": [
       "  instrument_id  max_vol_lag  min_vol_lag timesofday     vol_2     vol_3  \\\n",
       "0        ag1601            9            2        day  0.548696  0.730875   \n",
       "1        ag1601            9            2        day  0.310765  0.414698   \n",
       "2        ag1601            9            2        day  0.341238  0.436313   \n",
       "3        ag1601            9            2        day  0.627426  0.829852   \n",
       "4        ag1601            9            2        day  0.458269  0.612867   \n",
       "\n",
       "      vol_4     vol_5     vol_6     vol_7     vol_8     vol_9  \n",
       "0  0.861240  0.972972  1.054957  1.129889  1.199784  1.265015  \n",
       "1  0.491939  0.556672  0.613497  0.627018  0.647231  0.668500  \n",
       "2  0.493827  0.544566  0.586516  0.601445  0.614604  0.617724  \n",
       "3  0.981267  1.085029  1.172240  1.247323  1.317642  1.383340  \n",
       "4  0.726474  0.822112  0.906942  0.985028  1.054001  1.118484  "
      ]
     },
     "execution_count": 50,
     "metadata": {},
     "output_type": "execute_result"
    },
    {
     "data": {
      "image/png": "[encoded data removed]",
      "text/plain": [
       "<matplotlib.figure.Figure at 0x10f98a080>"
      ]
     },
     "metadata": {},
     "output_type": "display_data"
    }
   ],
   "source": [
    "plt.plot(vol_df.iloc[1,4:].values)\n",
    "vol_df.head()"
   ]
  },
  {
   "cell_type": "code",
   "execution_count": 10,
   "metadata": {},
   "outputs": [
    {
     "data": {
      "text/plain": [
       "<matplotlib.axes._subplots.AxesSubplot at 0x10e342ac8>"
      ]
     },
     "execution_count": 10,
     "metadata": {},
     "output_type": "execute_result"
    },
    {
     "data": {
      "image/png": "[encoded data removed]",
      "text/plain": [
       "<matplotlib.figure.Figure at 0x10e277b38>"
      ]
     },
     "metadata": {},
     "output_type": "display_data"
    }
   ],
   "source": [
    "vol_df[\"max_vol_lag\"].value_counts().plot(kind='bar')\n",
    "#plt.savefig(os.path.join(config.OUTPUT_PATH, \"max_vol_lag.png\"), dpi = 1000)"
   ]
  },
  {
   "cell_type": "code",
   "execution_count": 32,
   "metadata": {},
   "outputs": [
    {
     "data": {
      "image/png": "[encoded data removed]",
      "text/plain": [
       "<matplotlib.figure.Figure at 0x10fa72ef0>"
      ]
     },
     "metadata": {},
     "output_type": "display_data"
    }
   ],
   "source": [
    "vol_df[\"min_vol_lag\"].value_counts().plot(kind='bar')\n",
    "plt.savefig(os.path.join(config.OUTPUT_PATH, \"min_vol_lag.png\"), dpi = 1000)"
   ]
  },
  {
   "cell_type": "code",
   "execution_count": null,
   "metadata": {
    "collapsed": true
   },
   "outputs": [],
   "source": []
  }
 ],
 "metadata": {
  "kernelspec": {
   "display_name": "Python 3",
   "language": "python",
   "name": "python3"
  },
  "language_info": {
   "codemirror_mode": {
    "name": "ipython",
    "version": 3
   },
   "file_extension": ".py",
   "mimetype": "text/x-python",
   "name": "python",
   "nbconvert_exporter": "python",
   "pygments_lexer": "ipython3",
   "version": "3.5.0"
  }
 },
 "nbformat": 4,
 "nbformat_minor": 2
}
