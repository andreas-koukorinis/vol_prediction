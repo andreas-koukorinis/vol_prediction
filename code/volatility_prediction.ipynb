{
 "cells": [
  {
   "cell_type": "code",
   "execution_count": null,
   "metadata": {
    "scrolled": true
   },
   "outputs": [
    {
     "name": "stdout",
     "output_type": "stream",
     "text": [
      "The autoreload extension is already loaded. To reload it, use:\n",
      "  %reload_ext autoreload\n"
     ]
    }
   ],
   "source": [
    "%matplotlib inline\n",
    "%load_ext autoreload\n",
    "%autoreload 2\n",
    "import config\n",
    "import os\n",
    "import pandas as pd\n",
    "import numpy as np\n",
    "import matplotlib.pyplot as plt\n",
    "import datetime as dt\n",
    "from dateutil.parser import parse\n",
    "import pdb\n",
    "import seaborn as sns\n",
    "from tqdm import tqdm\n",
    "import re\n",
    "from collections import defaultdict\n",
    "from Instrument import calculate_vol, preprocess\n",
    "\n",
    "from sklearn.metrics import mean_squared_error\n",
    "from sklearn.preprocessing import StandardScaler\n",
    "from sklearn.pipeline import Pipeline\n",
    "from sklearn.linear_model import Lasso, ElasticNet, ElasticNetCV, LinearRegression\n",
    "from statsmodels.tsa.ar_model import AR\n",
    "from arch import arch_model\n",
    "import itertools\n",
    "\n",
    "\n",
    "def predict_BM(df, inst_id):\n",
    "    \"\"\"Forecast volatility with current volatility\n",
    "    \n",
    "    Args:\n",
    "        df: DataFrame, cleaned volatility dataframe\n",
    "        inst_id: str, instrument id\n",
    "    Returns:\n",
    "        vols_pred: Series, predicted volatility\n",
    "    \"\"\"\n",
    "    vols_pred = df[config.VOL_NAME].shift(1)\n",
    "    vols_pred = vols_pred.fillna(vols_pred.iloc[1])\n",
    "    vols_pred.name = 'benchmark'\n",
    "    vols_pred.to_csv(os.path.join(config.OUTPUT_DATA_PATH, inst_id + '_' + vols_pred.name + '.csv'))\n",
    "    print(\"Benchmark prediction finished.\")\n",
    "    return vols_pred\n",
    "\n",
    "def predict_AR(df, inst_id, window=config.ROLLING_WINDOW, p=1):\n",
    "    \"\"\" Forecast volatility with rolling window using AR(p) model\n",
    "    \n",
    "    Args:\n",
    "        df: DataFrame, cleaned volatility dataframe\n",
    "        inst_id: str, instrument id\n",
    "        window: int, rolling window size\n",
    "        p: int, lag of AR model\n",
    "    Returns:\n",
    "        vols_pred: Series, predicted volatility\n",
    "    \"\"\"\n",
    "\n",
    "    fit = lambda x: AR(x).fit(maxlag=p, disp=0).predict(start=x.size, end=x.size)\n",
    "#     vols_pred = df[config.VOL_NAME].expanding(min_periods=30).apply(fit)\n",
    "    vols_pred = df[config.VOL_NAME].rolling(window).apply(fit)\n",
    "    vols_pred.name = 'AR' + '_' + repr(window) + '_' + repr(p)\n",
    "    vols_pred.to_csv(os.path.join(config.OUTPUT_DATA_PATH, inst_id + '_' + vols_pred.name + '.csv'))\n",
    "    print(vols_pred.name + \" prediction finished.\")\n",
    "    return vols_pred\n",
    "\n",
    "def predict_Reg(df, inst_id, X_col=None, model_name='Lasso', p=1, params_dict=dict()):\n",
    "    \"\"\" Forecast volatility with rolling window using regression model with penalty\n",
    "    \n",
    "    Args:\n",
    "        df: DataFrame, cleaned volatility dataframe\n",
    "        inst_id: str, instrument id\n",
    "        X_col: list of str, names of columns in feature dataframe used for prediction \n",
    "        model_name: str, name of model, available options are 'Lasso', 'ElasticNet'\n",
    "        p: int, maximum lag of features used in regression\n",
    "        params_dict: dict, parameters used to initiate the regression model\n",
    "    Returns:\n",
    "        vols_pred: Series, predicted volatility\n",
    "    \"\"\"\n",
    "    \n",
    "    if X_col is None:\n",
    "        X_col = df.columns\n",
    "    if model_name == 'Lasso':\n",
    "        model = Lasso(**params_dict)\n",
    "    elif model_name == 'ElasticNet':\n",
    "        model = ElasticNet(**params_dict)\n",
    "    else:\n",
    "        raise NotImplementedError(\"{:s} model is not implemented\".format(model_name))\n",
    "    def fit_predict(df, p, X_col):\n",
    "        \"\"\"fit and predict the volatility on the last day of df\n",
    "        \n",
    "        Args:\n",
    "            df: DataFrame, cleaned volatility dataframe\n",
    "            p: int, maximum lag of features used in regression\n",
    "            X_col: list of str, names of columns in feature dataframe used for prediction \n",
    "        Returns:\n",
    "            vol: float, predicted volatility of the last day of df\n",
    "            coefs: np.array, coefficients of the features.\n",
    "        \"\"\"\n",
    "        X = pd.concat([df[X_col].shift(i+1) for i in range(p)], axis=1).dropna()\n",
    "        y = df[config.VOL_NAME].iloc[p:].values.ravel()\n",
    "        model.fit(X, y)\n",
    "        vol = model.predict(X.iloc[-1].values.reshape(1,-1))[0]\n",
    "        coefs = model.coef_\n",
    "        return vol, coefs\n",
    "    N = len(df)\n",
    "    vol_list = []\n",
    "    coef_list = []\n",
    "    for i in range(N):\n",
    "        if (i < config.ROLLING_WINDOW):\n",
    "            vol, coef = np.nan, [np.nan]*len(X_col)*p\n",
    "        else:\n",
    "            vol, coef = fit_predict(df.iloc[(i-config.ROLLING_WINDOW):i], p, X_col)\n",
    "        vol_list.append(vol)\n",
    "        coef_list.append(coef)\n",
    "    vols_pred = pd.Series(vol_list, index=df.index)\n",
    "    coef_columns = []\n",
    "    for i in range(p):\n",
    "        coef_columns += (df[X_col].columns + '_' + repr(i+1)).tolist()\n",
    "    coef_df = pd.DataFrame(np.vstack(coef_list), index=df.index, columns=coef_columns)\n",
    "    vols_pred.name = model_name\n",
    "    vols_pred.to_csv(os.path.join(config.OUTPUT_DATA_PATH, inst_id + '_' + vols_pred.name + '.csv'))\n",
    "    print(vols_pred.name + \" prediction finished.\")\n",
    "    return vols_pred, coef_df\n",
    "\n",
    "def predict_GARCH(df, inst_id, params_dict=None):\n",
    "    \"\"\" Forecast next step volatility with expanding window using GARCH model\n",
    "    \"\"\"\n",
    "    \n",
    "    rolling_window = config.ROLLING_WINDOW\n",
    "    if params_dict is None:\n",
    "        params_dict = {'vol': 'GARCH', 'p': 1, 'o': 0, 'q': 1}\n",
    "    fit = lambda x: arch_model(x, **params_dict).fit(disp='off', show_warning=False) \\\n",
    "                    .forecast().residual_variance.ix[x.size-1, 'h.1']\n",
    "    vols_pred = df[config.VOL_NAME].rolling(rolling_window).apply(fit)\n",
    "    vols_pred = vols_pred.clip(0, vols_pred.quantile(0.98))\n",
    "    vols_pred.name = 'GARCH'\n",
    "    vols_pred.to_csv(os.path.join(config.OUTPUT_DATA_PATH, inst_id + '_' + vols_pred.name + '.csv'))\n",
    "    print(\"GARCH prediction finished.\")\n",
    "    return vols_pred\n",
    "\n",
    "def dict_product(d):\n",
    "    \"\"\"Generate cartesian product of a dictionary of lists.\n",
    "    \n",
    "    Args:\n",
    "        d: dict\n",
    "    Returns:\n",
    "        result: generator of list of dict\n",
    "    \"\"\"\n",
    "    result = (dict(zip(d, x)) for x in itertools.product(*d.values()))\n",
    "    return result\n",
    "\n",
    "def get_mse(vols_true, vols_pred):\n",
    "    \"\"\"calculate root mean squared error.\n",
    "    \n",
    "    Args:\n",
    "        vols_true: Series, true volatility\n",
    "        vols_pred: Series, predicted volatility\n",
    "    Returns:\n",
    "        error: float, root mean squared error\n",
    "    \"\"\"\n",
    "    vols_pred_drop = vols_pred.dropna()\n",
    "    error = np.sqrt(mean_squared_error(vols_true[vols_pred_drop.index], vols_pred_drop))\n",
    "    return error"
   ]
  },
  {
   "cell_type": "code",
   "execution_count": 4,
   "metadata": {
    "scrolled": true
   },
   "outputs": [
    {
     "name": "stdout",
     "output_type": "stream",
     "text": [
      "Benchmark prediction finished.\n",
      "GARCH prediction finished.\n",
      "Param_dict: 0, Runtime: 0:13:48.770595\n"
     ]
    }
   ],
   "source": [
    "# calculate volatility for the instrument id\n",
    "inst_id = 'ag1604'\n",
    "# calculate_vol([inst_id])\n",
    "\n",
    "df_raw = pd.read_csv(os.path.join(config.OUTPUT_DATA_PATH, inst_id + '.csv'), parse_dates=['Datetime'], index_col=0)\n",
    "df = pd.read_csv(os.path.join(config.OUTPUT_DATA_PATH, inst_id + '_std.csv'), index_col=0)\n",
    "vols_true = df[config.VOL_NAME]\n",
    "vols_true.name = 'true'\n",
    "\n",
    "# benchmark\n",
    "vols_pred_Benchmark = predict_BM(df, inst_id)\n",
    "\n",
    "# # AR\n",
    "# vols_pred_AR = predict_AR(df, inst_id)\n",
    "\n",
    "# # # Lasso\n",
    "# params_dict = {'alpha': 0.001}\n",
    "# vols_pred_Lasso, coef_df = predict_Reg(df, inst_id, model_name='Lasso', p=1, params_dict=params_dict)\n",
    "\n",
    "# # ElasticNet\n",
    "# params_dict = {'alpha': 0.01, 'l1_ratio': 0.7, 'max_iter': 5000, 'warm_start': True}\n",
    "# vols_pred_EN, coef_df = predict_Reg(df, inst_id, model_name='ElasticNet', p=1, params_dict=params_dict)\n",
    "\n",
    "# Garch, takes about 15min for ag1604 to run\n",
    "params_dict = {'vol': 'GARCH', 'p': =1, 'o': 0, 'q': 1}\n",
    "vols_pred_GARCH = predict_GARCH(df, inst_id, params_dict)\n",
    "\n",
    "# # parameter scan for AR\n",
    "# params_universe = {'window': [30, 60, 120, 240],\n",
    "#                    'p': [1, 3, 5],\n",
    "#                     }\n",
    "# vols_pred_AR_list = []\n",
    "# mse_dict_list = []\n",
    "# for i, params_dict in enumerate(dict_product(params_universe)):\n",
    "#     vols_pred_AR = predict_AR(df, inst_id, **params_dict)\n",
    "#     vols_pred_AR_list.append(vols_pred_AR)\n",
    "#     mse_dict = params_dict\n",
    "#     mse_dict['sqrt(mse)'] = get_mse(vols_true, vols_pred_AR_list[i])\n",
    "#     mse_dict_list.append(mse_dict)\n",
    "# mse_df = pd.DataFrame(mse_dict_list)\n",
    "# mse_df = mse_df[['sqrt(mse)'] + mse_df.columns[mse_df.columns != 'sqrt(mse)'].tolist()]\n",
    "# mse_df.to_csv(os.path.join(config.OUTPUT_PATH, inst_id + '_AR_Params.csv'))\n",
    "\n",
    "# # parameter scan for ElasticNet\n",
    "# params_universe = {'alpha': [0.001, 0.01, 0.1, 1, 10],\n",
    "#                    'l1_ratio': [.1, .5, .7, .9 , 1],\n",
    "#                    'p': [1, 2],\n",
    "#                    'max_iter': [5000],\n",
    "#                    'warm_start': [True],}\n",
    "# vols_pred_Reg_list = []\n",
    "# mse_dict_list = []\n",
    "# for i, params_dict in enumerate(dict_product(params_universe)):\n",
    "#     vols_pred_Reg, _ = predict_Reg(df, inst_id, model_name='ElasticNet', p=params_dict.pop('p'), params_dict=params_dict)\n",
    "#     vols_pred_Reg_list.append(vols_pred_Reg)\n",
    "#     mse_dict = params_dict\n",
    "#     mse_dict['sqrt(mse)'] = get_mse(vols_true, vols_pred_Reg_list[i])\n",
    "#     mse_dict_list.append(mse_dict)\n",
    "# mse_df = pd.DataFrame(mse_dict_list)\n",
    "# mse_df = mse_df[['sqrt(mse)'] + mse_df.columns[mse_df.columns != 'sqrt(mse)'].tolist()]\n",
    "# mse_df.to_csv(os.path.join(config.OUTPUT_PATH, inst_id + '_ElasticNet_Params.csv'))"
   ]
  },
  {
   "cell_type": "code",
   "execution_count": 6,
   "metadata": {
    "scrolled": false
   },
   "outputs": [
    {
     "name": "stdout",
     "output_type": "stream",
     "text": [
      "benchmark: 0.181379\n",
      "GARCH: 0.134738\n"
     ]
    },
    {
     "data": {
      "text/plain": [
       "<matplotlib.legend.Legend at 0x103ebec50>"
      ]
     },
     "execution_count": 6,
     "metadata": {},
     "output_type": "execute_result"
    },
    {
     "data": {
      "image/png": "[encoded data removed]",
      "text/plain": [
       "<matplotlib.figure.Figure at 0x103ebef98>"
      ]
     },
     "metadata": {},
     "output_type": "display_data"
    }
   ],
   "source": [
    "# compare different prediction methods\n",
    "predictions = [vols_pred_Benchmark, vols_pred_AR, vols_pred_EN, vols_pred_Lasso, vols_pred_GARCH]\n",
    "for vols_pred in predictions:\n",
    "    mse = get_mse(vols_true, vols_pred)\n",
    "    print('{:s}: {:.6f}'.format(vols_pred.name, mse))\n",
    "    plt.plot(vols_pred - vols_true, label=vols_pred.name)\n",
    "plt.legend()"
   ]
  },
  {
   "cell_type": "code",
   "execution_count": 10,
   "metadata": {},
   "outputs": [
    {
     "data": {
      "image/png": "[encoded data removed]",
      "text/plain": [
       "<matplotlib.figure.Figure at 0x10f7c9b38>"
      ]
     },
     "metadata": {},
     "output_type": "display_data"
    }
   ],
   "source": [
    "plt.plot(df_raw.index, vols_true)\n",
    "plt.plot(df_raw.index, vols_pred_GARCH)\n",
    "plt.xlabel('time')\n",
    "plt.ylabel('vol')\n",
    "plt.title(inst_id)\n",
    "plt.legend()\n",
    "# plt.savefig(os.path.join(config.OUTPUT_PATH, inst_id + 'prediction.png'), dpi=1000)"
   ]
  },
  {
   "cell_type": "code",
   "execution_count": null,
   "metadata": {},
   "outputs": [],
   "source": []
  },
  {
   "cell_type": "code",
   "execution_count": 8,
   "metadata": {
    "collapsed": true
   },
   "outputs": [],
   "source": []
  },
  {
   "cell_type": "code",
   "execution_count": null,
   "metadata": {
    "collapsed": true
   },
   "outputs": [],
   "source": []
  }
 ],
 "metadata": {
  "kernelspec": {
   "display_name": "Python 3",
   "language": "python",
   "name": "python3"
  },
  "language_info": {
   "codemirror_mode": {
    "name": "ipython",
    "version": 3
   },
   "file_extension": ".py",
   "mimetype": "text/x-python",
   "name": "python",
   "nbconvert_exporter": "python",
   "pygments_lexer": "ipython3",
   "version": "3.5.0"
  }
 },
 "nbformat": 4,
 "nbformat_minor": 2
}
